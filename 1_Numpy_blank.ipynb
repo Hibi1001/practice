{
  "cells": [
    {
      "cell_type": "markdown",
      "metadata": {
        "id": "view-in-github",
        "colab_type": "text"
      },
      "source": [
        "<a href=\"https://colab.research.google.com/github/Hibi1001/practice/blob/main/1_Numpy_blank.ipynb\" target=\"_parent\"><img src=\"https://colab.research.google.com/assets/colab-badge.svg\" alt=\"Open In Colab\"/></a>"
      ]
    },
    {
      "cell_type": "markdown",
      "id": "2346558a",
      "metadata": {
        "id": "2346558a"
      },
      "source": [
        "<a id=0></a>  \n",
        "# 1. Numpy ndarrayを理解する\n",
        "### ※ Numpy : ”Numerical Python”、数値計算・配列計算を高速で実行できるパッケージ"
      ]
    },
    {
      "cell_type": "markdown",
      "id": "d42a05df",
      "metadata": {
        "id": "d42a05df"
      },
      "source": [
        "---\n",
        "### [1.Python ListとNumpy ndarray ](#1)\n",
        "### [2.Numpyの関数で連番、等差数列を作成](#2)\n",
        "### [3.Randomモジュールによる乱数Arrayの作成と次元の変換](#3)\n",
        "### [4.Numpy ndarrayの次元、形状、サイズ](#4)\n",
        "### [5.Numpy ndarrayの演算例](#5)\n",
        "---"
      ]
    },
    {
      "cell_type": "markdown",
      "id": "650acfd3",
      "metadata": {
        "id": "650acfd3"
      },
      "source": [
        "Numpyをnpというエイリアス（別名）でインポートする  "
      ]
    },
    {
      "cell_type": "code",
      "execution_count": 3,
      "id": "972ba1da",
      "metadata": {
        "id": "972ba1da"
      },
      "outputs": [],
      "source": [
        "import numpy as np"
      ]
    },
    {
      "cell_type": "markdown",
      "id": "1279c566",
      "metadata": {
        "id": "1279c566"
      },
      "source": [
        "---\n",
        "<a id=1></a>\n",
        "[Topへ](#0)\n",
        "\n",
        "---\n",
        "## 1.Python ListとNumpy ndarray      "
      ]
    },
    {
      "cell_type": "markdown",
      "id": "0e8bcf67",
      "metadata": {
        "id": "0e8bcf67"
      },
      "source": [
        "* ListとNumpy ndarrayを作成\n",
        "* 型（タイプ）を確認  \n",
        "* Numpy ndarrayのデータタイプ（Numpy ndarrayではすべての要素のデータタイプが統一される）\n",
        "* Numpy ndarrayの演算例\n",
        "* Numpy ndarrayの最大値、最小値、平均、合計\n",
        "* Numpy ndarrayは要素の形状を一定に\n",
        "* Numpy ndarrayのデータタイプ変換\n",
        "---"
      ]
    },
    {
      "cell_type": "markdown",
      "id": "1471a3cb",
      "metadata": {
        "id": "1471a3cb"
      },
      "source": [
        "List と ndarrayを作成"
      ]
    },
    {
      "cell_type": "code",
      "execution_count": 4,
      "id": "160306be",
      "metadata": {
        "colab": {
          "base_uri": "https://localhost:8080/"
        },
        "id": "160306be",
        "outputId": "d99c75f8-6ec2-47f3-ec95-7cbecb253c8b"
      },
      "outputs": [
        {
          "output_type": "execute_result",
          "data": {
            "text/plain": [
              "[1, 2, 3]"
            ]
          },
          "metadata": {},
          "execution_count": 4
        }
      ],
      "source": [
        "arr1 = [1, 2, 3]\n",
        "arr2 = [2, 4, 6]\n",
        "arr1"
      ]
    },
    {
      "cell_type": "code",
      "source": [
        "np_arr1 = np.array(arr1)\n",
        "np_arr2 = np.array(arr2)\n",
        "np_arr1\n",
        "np_arr2"
      ],
      "metadata": {
        "colab": {
          "base_uri": "https://localhost:8080/"
        },
        "id": "8l1Vf-fHiyv-",
        "outputId": "28a9d50e-fd26-4a15-c15f-12cdf9625276"
      },
      "id": "8l1Vf-fHiyv-",
      "execution_count": 5,
      "outputs": [
        {
          "output_type": "execute_result",
          "data": {
            "text/plain": [
              "array([2, 4, 6])"
            ]
          },
          "metadata": {},
          "execution_count": 5
        }
      ]
    },
    {
      "cell_type": "markdown",
      "id": "5938050d",
      "metadata": {
        "id": "5938050d"
      },
      "source": [
        "型（タイプ）を確認  \n",
        "※ ndarray : n dimentional array（多次元配列）"
      ]
    },
    {
      "cell_type": "code",
      "execution_count": 6,
      "id": "69785e4b",
      "metadata": {
        "scrolled": true,
        "colab": {
          "base_uri": "https://localhost:8080/"
        },
        "id": "69785e4b",
        "outputId": "28457419-9f24-4d8d-8f17-43153d7d9d8e"
      },
      "outputs": [
        {
          "output_type": "stream",
          "name": "stdout",
          "text": [
            "<class 'list'>\n",
            "<class 'numpy.ndarray'>\n"
          ]
        }
      ],
      "source": [
        "print(type(arr1))\n",
        "print(type(np_arr1))"
      ]
    },
    {
      "cell_type": "markdown",
      "id": "732627d7",
      "metadata": {
        "id": "732627d7"
      },
      "source": [
        "Numpy ndarrayのデータタイプ（Numpy ndarrayではすべての要素のデータタイプが統一される）"
      ]
    },
    {
      "cell_type": "code",
      "execution_count": 7,
      "id": "5f213384",
      "metadata": {
        "colab": {
          "base_uri": "https://localhost:8080/"
        },
        "id": "5f213384",
        "outputId": "a9e339a4-8a5b-4013-eaea-c5555cead683"
      },
      "outputs": [
        {
          "output_type": "execute_result",
          "data": {
            "text/plain": [
              "dtype('int64')"
            ]
          },
          "metadata": {},
          "execution_count": 7
        }
      ],
      "source": [
        "np_arr1.dtype"
      ]
    },
    {
      "cell_type": "markdown",
      "id": "85da2428",
      "metadata": {
        "id": "85da2428"
      },
      "source": [
        "NumpyArrayの演算例"
      ]
    },
    {
      "cell_type": "code",
      "execution_count": 8,
      "id": "e79e506b",
      "metadata": {
        "colab": {
          "base_uri": "https://localhost:8080/"
        },
        "id": "e79e506b",
        "outputId": "f057e312-0cea-4806-d646-df9951f68337"
      },
      "outputs": [
        {
          "output_type": "execute_result",
          "data": {
            "text/plain": [
              "array([2, 4, 6])"
            ]
          },
          "metadata": {},
          "execution_count": 8
        }
      ],
      "source": [
        "np_arr1 * 2"
      ]
    },
    {
      "cell_type": "code",
      "source": [
        "np_arr1 * np_arr2"
      ],
      "metadata": {
        "colab": {
          "base_uri": "https://localhost:8080/"
        },
        "id": "5XJVa9t8mIzc",
        "outputId": "25054929-f0f1-47aa-d701-e2a0428ffc35"
      },
      "id": "5XJVa9t8mIzc",
      "execution_count": 9,
      "outputs": [
        {
          "output_type": "execute_result",
          "data": {
            "text/plain": [
              "array([ 2,  8, 18])"
            ]
          },
          "metadata": {},
          "execution_count": 9
        }
      ]
    },
    {
      "cell_type": "markdown",
      "source": [],
      "metadata": {
        "id": "0DCao9twl0FV"
      },
      "id": "0DCao9twl0FV"
    },
    {
      "cell_type": "markdown",
      "id": "e3848cf8",
      "metadata": {
        "id": "e3848cf8"
      },
      "source": [
        "Numpy ndarrayの最大値、最小値、平均、合計（全要素に対する）"
      ]
    },
    {
      "cell_type": "code",
      "source": [
        "np_arr1.max()\n",
        "np_arr1.mean()\n",
        "np_arr1.min()\n",
        "np_arr1.var()\n",
        "np_arr1.sum()\n",
        "np_arr1.max()\n",
        "np_arr1.std()"
      ],
      "metadata": {
        "colab": {
          "base_uri": "https://localhost:8080/"
        },
        "id": "6nMvdJDZltO-",
        "outputId": "912a613a-e75d-4ddb-edaf-5f85cb9144c6"
      },
      "id": "6nMvdJDZltO-",
      "execution_count": 10,
      "outputs": [
        {
          "output_type": "execute_result",
          "data": {
            "text/plain": [
              "0.816496580927726"
            ]
          },
          "metadata": {},
          "execution_count": 10
        }
      ]
    },
    {
      "cell_type": "markdown",
      "id": "a70bb654",
      "metadata": {
        "id": "a70bb654"
      },
      "source": [
        "ファンシーインデックス"
      ]
    },
    {
      "cell_type": "code",
      "source": [
        "arr3 = [[100, 200], [1000, 3000]]\n",
        "np_arr3 = np.array(arr3)"
      ],
      "metadata": {
        "id": "r7q2_-K2m98j"
      },
      "id": "r7q2_-K2m98j",
      "execution_count": 11,
      "outputs": []
    },
    {
      "cell_type": "code",
      "source": [
        "arr3[1][1]"
      ],
      "metadata": {
        "colab": {
          "base_uri": "https://localhost:8080/"
        },
        "id": "TjnNhWTKm9vR",
        "outputId": "f8934393-a174-41f0-c3cd-d9f364c6b1e8"
      },
      "id": "TjnNhWTKm9vR",
      "execution_count": 12,
      "outputs": [
        {
          "output_type": "execute_result",
          "data": {
            "text/plain": [
              "3000"
            ]
          },
          "metadata": {},
          "execution_count": 12
        }
      ]
    },
    {
      "cell_type": "code",
      "source": [
        "np_arr3[1][1]"
      ],
      "metadata": {
        "colab": {
          "base_uri": "https://localhost:8080/"
        },
        "id": "3iXRq_U4m7rk",
        "outputId": "a9378ee0-9d1c-4798-cdbf-67348fed1e5a"
      },
      "id": "3iXRq_U4m7rk",
      "execution_count": 13,
      "outputs": [
        {
          "output_type": "execute_result",
          "data": {
            "text/plain": [
              "3000"
            ]
          },
          "metadata": {},
          "execution_count": 13
        }
      ]
    },
    {
      "cell_type": "code",
      "execution_count": 14,
      "id": "28a93237",
      "metadata": {
        "colab": {
          "base_uri": "https://localhost:8080/"
        },
        "id": "28a93237",
        "outputId": "33bdee61-b04c-41e6-c558-4fe589a838c0"
      },
      "outputs": [
        {
          "output_type": "execute_result",
          "data": {
            "text/plain": [
              "3000"
            ]
          },
          "metadata": {},
          "execution_count": 14
        }
      ],
      "source": [
        "np_arr3[1,1]"
      ]
    },
    {
      "cell_type": "code",
      "source": [
        "np_arr3"
      ],
      "metadata": {
        "colab": {
          "base_uri": "https://localhost:8080/"
        },
        "id": "oMUe-tOrnr5D",
        "outputId": "bd3dacbe-ad0e-49cb-b0c3-625d9adc8ce0"
      },
      "id": "oMUe-tOrnr5D",
      "execution_count": 15,
      "outputs": [
        {
          "output_type": "execute_result",
          "data": {
            "text/plain": [
              "array([[ 100,  200],\n",
              "       [1000, 3000]])"
            ]
          },
          "metadata": {},
          "execution_count": 15
        }
      ]
    },
    {
      "cell_type": "markdown",
      "id": "28c17db2",
      "metadata": {
        "id": "28c17db2"
      },
      "source": [
        "Numpy ndarrayは各次元の要素の形状を一定に"
      ]
    },
    {
      "cell_type": "code",
      "source": [
        "arr4 = [[0], [100, 200], [300, 400, 500]]"
      ],
      "metadata": {
        "id": "9fpL0Pgdnwpn"
      },
      "id": "9fpL0Pgdnwpn",
      "execution_count": 16,
      "outputs": []
    },
    {
      "cell_type": "code",
      "source": [
        "# np_arr4 = np.array(arr4)"
      ],
      "metadata": {
        "id": "fIJY-bjQnwbn"
      },
      "id": "fIJY-bjQnwbn",
      "execution_count": 17,
      "outputs": []
    },
    {
      "cell_type": "code",
      "execution_count": 18,
      "id": "e295a1d2",
      "metadata": {
        "id": "e295a1d2"
      },
      "outputs": [],
      "source": [
        "arr5 = [[0, [10, 20]], [30, [40, 50]]]"
      ]
    },
    {
      "cell_type": "code",
      "source": [
        "#np.array(arr5)"
      ],
      "metadata": {
        "id": "s_KYMy50oGhc"
      },
      "id": "s_KYMy50oGhc",
      "execution_count": 19,
      "outputs": []
    },
    {
      "cell_type": "markdown",
      "id": "0ab71d25",
      "metadata": {
        "id": "0ab71d25"
      },
      "source": [
        "Numpy ndarrayのデータタイプ変換"
      ]
    },
    {
      "cell_type": "code",
      "execution_count": 20,
      "id": "d287170d",
      "metadata": {
        "colab": {
          "base_uri": "https://localhost:8080/"
        },
        "id": "d287170d",
        "outputId": "c7ea6d4c-0284-476f-a5ed-d0545b7c0701"
      },
      "outputs": [
        {
          "output_type": "execute_result",
          "data": {
            "text/plain": [
              "array([[0., 1., 2.],\n",
              "       [3., 4., 5.]])"
            ]
          },
          "metadata": {},
          "execution_count": 20
        }
      ],
      "source": [
        "arr6 = [[0, 1, 2.0], [3, 4, 5]]\n",
        "np_arr6 = np.array(arr6)\n",
        "np_arr6"
      ]
    },
    {
      "cell_type": "code",
      "source": [
        "np_arr6.dtype"
      ],
      "metadata": {
        "colab": {
          "base_uri": "https://localhost:8080/"
        },
        "id": "TsoVBkdh1V9H",
        "outputId": "0cfb273d-ae1b-42a4-e326-e7ba7ca64c1c"
      },
      "id": "TsoVBkdh1V9H",
      "execution_count": 21,
      "outputs": [
        {
          "output_type": "execute_result",
          "data": {
            "text/plain": [
              "dtype('float64')"
            ]
          },
          "metadata": {},
          "execution_count": 21
        }
      ]
    },
    {
      "cell_type": "code",
      "source": [
        "np_arr6 = np_arr6.astype(int)\n",
        "np_arr6.dtype"
      ],
      "metadata": {
        "colab": {
          "base_uri": "https://localhost:8080/"
        },
        "id": "p7X5yuQy13rH",
        "outputId": "67f85afb-5b6d-45fd-894c-374b2d977591"
      },
      "id": "p7X5yuQy13rH",
      "execution_count": 22,
      "outputs": [
        {
          "output_type": "execute_result",
          "data": {
            "text/plain": [
              "dtype('int64')"
            ]
          },
          "metadata": {},
          "execution_count": 22
        }
      ]
    },
    {
      "cell_type": "code",
      "source": [
        "arr7 = [[0, 1, \"2\"], [3, 4, 5]]\n",
        "np_arr7 = np.array(arr7)\n",
        "np_arr7.dtype"
      ],
      "metadata": {
        "colab": {
          "base_uri": "https://localhost:8080/"
        },
        "id": "RmFQqpss1ycx",
        "outputId": "d9698dbe-4104-4b71-caf6-9a03ecd3e3c8"
      },
      "id": "RmFQqpss1ycx",
      "execution_count": 23,
      "outputs": [
        {
          "output_type": "execute_result",
          "data": {
            "text/plain": [
              "dtype('<U21')"
            ]
          },
          "metadata": {},
          "execution_count": 23
        }
      ]
    },
    {
      "cell_type": "code",
      "source": [
        "np_arr7.astype(int).dtype"
      ],
      "metadata": {
        "colab": {
          "base_uri": "https://localhost:8080/"
        },
        "id": "800tiOLT12zx",
        "outputId": "817c3d03-caae-4fa6-b02b-26f38dc81fec"
      },
      "id": "800tiOLT12zx",
      "execution_count": 24,
      "outputs": [
        {
          "output_type": "execute_result",
          "data": {
            "text/plain": [
              "dtype('int64')"
            ]
          },
          "metadata": {},
          "execution_count": 24
        }
      ]
    },
    {
      "cell_type": "code",
      "source": [
        "np_arr7.astype(object).dtype"
      ],
      "metadata": {
        "colab": {
          "base_uri": "https://localhost:8080/"
        },
        "id": "IOVxMhdeumVy",
        "outputId": "6c44a68a-f362-40c6-d227-812a4c136192"
      },
      "id": "IOVxMhdeumVy",
      "execution_count": 25,
      "outputs": [
        {
          "output_type": "execute_result",
          "data": {
            "text/plain": [
              "dtype('O')"
            ]
          },
          "metadata": {},
          "execution_count": 25
        }
      ]
    },
    {
      "cell_type": "markdown",
      "id": "6cb9efd3",
      "metadata": {
        "id": "6cb9efd3"
      },
      "source": [
        "* np.arange(start, stop, step) : 等差数列\n",
        "* np.linspace(start, stop, size) : 範囲と生成数から作成\n",
        "---"
      ]
    },
    {
      "cell_type": "markdown",
      "id": "76c20373",
      "metadata": {
        "id": "76c20373"
      },
      "source": [
        "np.arange(start, stop, step) : 等差数列（正の値のみ）"
      ]
    },
    {
      "cell_type": "code",
      "execution_count": 26,
      "id": "aa071ddd",
      "metadata": {
        "colab": {
          "base_uri": "https://localhost:8080/"
        },
        "id": "aa071ddd",
        "outputId": "8402dcd1-dafe-4467-9468-df62978a3c16"
      },
      "outputs": [
        {
          "output_type": "execute_result",
          "data": {
            "text/plain": [
              "array([0, 1, 2, 3, 4, 5, 6, 7])"
            ]
          },
          "metadata": {},
          "execution_count": 26
        }
      ],
      "source": [
        "np.arange(8)"
      ]
    },
    {
      "cell_type": "code",
      "source": [
        "np.arange(0, 8, 1)\n",
        "#stopは含まれない"
      ],
      "metadata": {
        "colab": {
          "base_uri": "https://localhost:8080/"
        },
        "id": "3rEe1ci8u-iW",
        "outputId": "043c0369-9598-44d9-cb38-2c3f5df6ece0"
      },
      "id": "3rEe1ci8u-iW",
      "execution_count": 27,
      "outputs": [
        {
          "output_type": "execute_result",
          "data": {
            "text/plain": [
              "array([0, 1, 2, 3, 4, 5, 6, 7])"
            ]
          },
          "metadata": {},
          "execution_count": 27
        }
      ]
    },
    {
      "cell_type": "code",
      "source": [
        "np.arange(-5, 5, 2)"
      ],
      "metadata": {
        "colab": {
          "base_uri": "https://localhost:8080/"
        },
        "id": "0rB6fLH2vHR6",
        "outputId": "71562511-9ea1-452c-94f7-d0a1c1cad855"
      },
      "id": "0rB6fLH2vHR6",
      "execution_count": 28,
      "outputs": [
        {
          "output_type": "execute_result",
          "data": {
            "text/plain": [
              "array([-5, -3, -1,  1,  3])"
            ]
          },
          "metadata": {},
          "execution_count": 28
        }
      ]
    },
    {
      "cell_type": "code",
      "source": [
        "np.arange(0, 6.1, 0.5)"
      ],
      "metadata": {
        "colab": {
          "base_uri": "https://localhost:8080/"
        },
        "id": "MFJkLTeRvNbl",
        "outputId": "7d38a3c1-3ed6-437e-f967-6572b42d14d8"
      },
      "id": "MFJkLTeRvNbl",
      "execution_count": 29,
      "outputs": [
        {
          "output_type": "execute_result",
          "data": {
            "text/plain": [
              "array([0. , 0.5, 1. , 1.5, 2. , 2.5, 3. , 3.5, 4. , 4.5, 5. , 5.5, 6. ])"
            ]
          },
          "metadata": {},
          "execution_count": 29
        }
      ]
    },
    {
      "cell_type": "code",
      "source": [],
      "metadata": {
        "id": "e-uD-n4evbWg"
      },
      "id": "e-uD-n4evbWg",
      "execution_count": 29,
      "outputs": []
    },
    {
      "cell_type": "markdown",
      "id": "6a03f72a",
      "metadata": {
        "id": "6a03f72a"
      },
      "source": [
        "np.linspace(start, stop, size) : 範囲と生成数から作成"
      ]
    },
    {
      "cell_type": "code",
      "source": [
        "np.linspace(1, 8)\n",
        "#startからstopまでをsizaで分割する。デフォでsize=50"
      ],
      "metadata": {
        "id": "o7moKXO9uzX1",
        "colab": {
          "base_uri": "https://localhost:8080/"
        },
        "outputId": "0d16bd63-258b-4c35-e8c4-8d46f024f36d"
      },
      "id": "o7moKXO9uzX1",
      "execution_count": 30,
      "outputs": [
        {
          "output_type": "execute_result",
          "data": {
            "text/plain": [
              "array([1.        , 1.14285714, 1.28571429, 1.42857143, 1.57142857,\n",
              "       1.71428571, 1.85714286, 2.        , 2.14285714, 2.28571429,\n",
              "       2.42857143, 2.57142857, 2.71428571, 2.85714286, 3.        ,\n",
              "       3.14285714, 3.28571429, 3.42857143, 3.57142857, 3.71428571,\n",
              "       3.85714286, 4.        , 4.14285714, 4.28571429, 4.42857143,\n",
              "       4.57142857, 4.71428571, 4.85714286, 5.        , 5.14285714,\n",
              "       5.28571429, 5.42857143, 5.57142857, 5.71428571, 5.85714286,\n",
              "       6.        , 6.14285714, 6.28571429, 6.42857143, 6.57142857,\n",
              "       6.71428571, 6.85714286, 7.        , 7.14285714, 7.28571429,\n",
              "       7.42857143, 7.57142857, 7.71428571, 7.85714286, 8.        ])"
            ]
          },
          "metadata": {},
          "execution_count": 30
        }
      ]
    },
    {
      "cell_type": "code",
      "execution_count": 31,
      "id": "a8486767",
      "metadata": {
        "id": "a8486767",
        "colab": {
          "base_uri": "https://localhost:8080/"
        },
        "outputId": "7c7b710a-9df3-4f88-f172-14125047bbe6"
      },
      "outputs": [
        {
          "output_type": "execute_result",
          "data": {
            "text/plain": [
              "array([0.        , 0.55555556, 1.11111111, 1.66666667, 2.22222222,\n",
              "       2.77777778, 3.33333333, 3.88888889, 4.44444444, 5.        ])"
            ]
          },
          "metadata": {},
          "execution_count": 31
        }
      ],
      "source": [
        "np.linspace(0, 5, 10)\n",
        "#stopを含む"
      ]
    },
    {
      "cell_type": "code",
      "source": [
        "np.linspace(0, 5, 10, endpoint=False)"
      ],
      "metadata": {
        "colab": {
          "base_uri": "https://localhost:8080/"
        },
        "id": "aHraRl2zv9Qg",
        "outputId": "5af3d2f8-3853-4893-987a-3d0b0b7f43c4"
      },
      "id": "aHraRl2zv9Qg",
      "execution_count": 32,
      "outputs": [
        {
          "output_type": "execute_result",
          "data": {
            "text/plain": [
              "array([0. , 0.5, 1. , 1.5, 2. , 2.5, 3. , 3.5, 4. , 4.5])"
            ]
          },
          "metadata": {},
          "execution_count": 32
        }
      ]
    },
    {
      "cell_type": "markdown",
      "id": "a96367d0",
      "metadata": {
        "id": "a96367d0"
      },
      "source": [
        "---\n",
        "<a id=3></a>\n",
        "[Topへ](#0)\n",
        "\n",
        "---\n",
        "## 3.Randomモジュールによる乱数Arrayの作成"
      ]
    },
    {
      "cell_type": "markdown",
      "id": "e5cf2532",
      "metadata": {
        "id": "e5cf2532"
      },
      "source": [
        "* np.random.randint(low, high, size): 整数\n",
        "* 乱数シード\n",
        "* np.random.rand(size) : 0以上1未満\n",
        "* np.random.randn(size) : 平均0、標準偏差1、正規分布に近づく数列  \n",
        "* np.random.normal(average, satandard_deviation, size) : 平均と標準偏差を指定、正規分布に近づく数列\n",
        "* np.random.uniform(low, high, size) : 範囲と生成数を指定\n",
        "* np.random.choice(array, size) : Listの値をランダムに選択\n",
        "---"
      ]
    },
    {
      "cell_type": "markdown",
      "id": "48445f81",
      "metadata": {
        "id": "48445f81"
      },
      "source": [
        "np.random.randint(low, high, size): 整数"
      ]
    },
    {
      "cell_type": "code",
      "execution_count": 33,
      "id": "0a93eff2",
      "metadata": {
        "id": "0a93eff2",
        "colab": {
          "base_uri": "https://localhost:8080/"
        },
        "outputId": "b8437469-c6f8-4b77-c11d-561ab4527ad8"
      },
      "outputs": [
        {
          "output_type": "execute_result",
          "data": {
            "text/plain": [
              "12"
            ]
          },
          "metadata": {},
          "execution_count": 33
        }
      ],
      "source": [
        "np.random.randint(10, 20)"
      ]
    },
    {
      "cell_type": "code",
      "source": [
        "np.random.randint(10, 30, 5)"
      ],
      "metadata": {
        "colab": {
          "base_uri": "https://localhost:8080/"
        },
        "id": "rIghzgQIweP3",
        "outputId": "6128b36c-abb0-4630-bd3e-f9d2971b5cb3"
      },
      "id": "rIghzgQIweP3",
      "execution_count": 34,
      "outputs": [
        {
          "output_type": "execute_result",
          "data": {
            "text/plain": [
              "array([29, 16, 26, 16, 23])"
            ]
          },
          "metadata": {},
          "execution_count": 34
        }
      ]
    },
    {
      "cell_type": "code",
      "source": [
        "np.random.randint(10, 30, (3, 4))"
      ],
      "metadata": {
        "colab": {
          "base_uri": "https://localhost:8080/"
        },
        "id": "QEphws2CwfLe",
        "outputId": "114f3088-41f1-460a-ca31-0e14bd0901c0"
      },
      "id": "QEphws2CwfLe",
      "execution_count": 35,
      "outputs": [
        {
          "output_type": "execute_result",
          "data": {
            "text/plain": [
              "array([[19, 28, 20, 27],\n",
              "       [10, 29, 13, 17],\n",
              "       [27, 10, 12, 28]])"
            ]
          },
          "metadata": {},
          "execution_count": 35
        }
      ]
    },
    {
      "cell_type": "code",
      "source": [
        "np.random.randint(10, 50, (3, 4, 2))"
      ],
      "metadata": {
        "id": "ZJdJtGL5w7wg",
        "outputId": "88b214c4-974b-4bbd-b0cf-6ba31527ae65",
        "colab": {
          "base_uri": "https://localhost:8080/"
        }
      },
      "id": "ZJdJtGL5w7wg",
      "execution_count": 36,
      "outputs": [
        {
          "output_type": "execute_result",
          "data": {
            "text/plain": [
              "array([[[40, 13],\n",
              "        [10, 35],\n",
              "        [24, 48],\n",
              "        [14, 31]],\n",
              "\n",
              "       [[34, 42],\n",
              "        [17, 27],\n",
              "        [36, 34],\n",
              "        [18, 26]],\n",
              "\n",
              "       [[26, 49],\n",
              "        [29, 32],\n",
              "        [47, 25],\n",
              "        [46, 21]]])"
            ]
          },
          "metadata": {},
          "execution_count": 36
        }
      ]
    },
    {
      "cell_type": "markdown",
      "id": "54b11ddd",
      "metadata": {
        "id": "54b11ddd"
      },
      "source": [
        "乱数シード"
      ]
    },
    {
      "cell_type": "code",
      "execution_count": 37,
      "id": "a4396762",
      "metadata": {
        "id": "a4396762",
        "colab": {
          "base_uri": "https://localhost:8080/"
        },
        "outputId": "52cb3900-f393-4aaa-a9bb-cfc82dbf6eb7"
      },
      "outputs": [
        {
          "output_type": "execute_result",
          "data": {
            "text/plain": [
              "16"
            ]
          },
          "metadata": {},
          "execution_count": 37
        }
      ],
      "source": [
        "np.random.seed(17)\n",
        "np.random.randint(1, 100)"
      ]
    },
    {
      "cell_type": "code",
      "source": [
        "np.random.seed(1)\n",
        "np.random.randint(1, 100)"
      ],
      "metadata": {
        "id": "EIg_iz9bw5M1",
        "outputId": "ba61ec91-9f09-4d9d-eba7-b15d9cff84dc",
        "colab": {
          "base_uri": "https://localhost:8080/"
        }
      },
      "id": "EIg_iz9bw5M1",
      "execution_count": 38,
      "outputs": [
        {
          "output_type": "execute_result",
          "data": {
            "text/plain": [
              "38"
            ]
          },
          "metadata": {},
          "execution_count": 38
        }
      ]
    },
    {
      "cell_type": "markdown",
      "id": "da09e3da",
      "metadata": {
        "id": "da09e3da"
      },
      "source": [
        "np.random.rand(size) : 0以上1未満"
      ]
    },
    {
      "cell_type": "code",
      "execution_count": 39,
      "id": "cc9ad4ce",
      "metadata": {
        "id": "cc9ad4ce",
        "colab": {
          "base_uri": "https://localhost:8080/"
        },
        "outputId": "b17a0873-2d37-4e6d-debd-2219204b3846"
      },
      "outputs": [
        {
          "output_type": "execute_result",
          "data": {
            "text/plain": [
              "array([[0.99718481, 0.93255736, 0.12812445],\n",
              "       [0.99904052, 0.23608898, 0.39658073]])"
            ]
          },
          "metadata": {},
          "execution_count": 39
        }
      ],
      "source": [
        "np.random.rand(2, 3)"
      ]
    },
    {
      "cell_type": "markdown",
      "id": "c91ed918",
      "metadata": {
        "id": "c91ed918"
      },
      "source": [
        "np.random.randn(size) : 平均0、標準偏差1、正規分布に近づく数列  \n",
        "\n",
        "    ※ 分散    ：「各数値の平均との差」を平方（2乗）した値の平均（平方するのはプラスの値で測るため）  \n",
        "    ※ 標準偏差：平均からのばらつき具合を示す指標。分散の正の平方根  \n",
        "    ※ 正規分布：平均値の度数を中心に、正負の値の度数が同程度に広がる分布      "
      ]
    },
    {
      "cell_type": "code",
      "execution_count": 40,
      "id": "87affd40",
      "metadata": {
        "id": "87affd40",
        "colab": {
          "base_uri": "https://localhost:8080/",
          "height": 430
        },
        "outputId": "2f7bc42f-ce1d-4640-a814-45b45bfff0e2"
      },
      "outputs": [
        {
          "output_type": "display_data",
          "data": {
            "text/plain": [
              "<Figure size 640x480 with 1 Axes>"
            ],
            "image/png": "[encoded data removed]"
          },
          "metadata": {}
        }
      ],
      "source": [
        "np.random.seed(11)\n",
        "import matplotlib.pyplot as plt\n",
        "plt.hist(np.random.randn(10000), bins=20)\n",
        "plt.show()"
      ]
    },
    {
      "cell_type": "markdown",
      "id": "7b0efdd2",
      "metadata": {
        "id": "7b0efdd2"
      },
      "source": [
        " np.random.normal(average, satandard_deviation, size) : 平均と標準偏差を指定、正規分布に近づく数列"
      ]
    },
    {
      "cell_type": "code",
      "execution_count": 40,
      "id": "b3416710",
      "metadata": {
        "id": "b3416710"
      },
      "outputs": [],
      "source": []
    },
    {
      "cell_type": "markdown",
      "id": "bc7a7b91",
      "metadata": {
        "id": "bc7a7b91"
      },
      "source": [
        "np.random.uniform(low, high, size) : 範囲と生成数を指定。連続一様分布に近づく。"
      ]
    },
    {
      "cell_type": "code",
      "execution_count": 41,
      "id": "3028fd18",
      "metadata": {
        "scrolled": true,
        "id": "3028fd18",
        "colab": {
          "base_uri": "https://localhost:8080/"
        },
        "outputId": "dddea5fa-c6ed-4420-e6df-7e8fc3c6fd2d"
      },
      "outputs": [
        {
          "output_type": "execute_result",
          "data": {
            "text/plain": [
              "array([[4.71376385, 6.98339029, 2.842454  , 3.36485657, 5.90993444,\n",
              "        6.58438796, 4.23560625, 7.61860227, 4.54295355, 7.33699759],\n",
              "       [3.87471108, 6.33892272, 7.68382138, 6.03745493, 5.76722512,\n",
              "        2.46815132, 5.92757012, 7.08284815, 2.37497159, 7.35641556]])"
            ]
          },
          "metadata": {},
          "execution_count": 41
        }
      ],
      "source": [
        "np.random.uniform(2, 8, (2, 10))"
      ]
    },
    {
      "cell_type": "code",
      "source": [
        "a = 111\n",
        "print(\"求める解:\",a)"
      ],
      "metadata": {
        "id": "RTCALWCazM9a",
        "outputId": "528ab660-b0e6-4c5b-afb9-4c45361859fe",
        "colab": {
          "base_uri": "https://localhost:8080/"
        }
      },
      "id": "RTCALWCazM9a",
      "execution_count": 42,
      "outputs": [
        {
          "output_type": "stream",
          "name": "stdout",
          "text": [
            "求める解: 111\n"
          ]
        }
      ]
    },
    {
      "cell_type": "markdown",
      "id": "04669a8c",
      "metadata": {
        "id": "04669a8c"
      },
      "source": [
        "np.random.choice(array, size) : Listの値をランダムに選択"
      ]
    },
    {
      "cell_type": "code",
      "execution_count": 43,
      "id": "f02f5344",
      "metadata": {
        "id": "f02f5344",
        "colab": {
          "base_uri": "https://localhost:8080/"
        },
        "outputId": "2e2a7988-99f0-4afb-985f-9c38da4bc00f"
      },
      "outputs": [
        {
          "output_type": "execute_result",
          "data": {
            "text/plain": [
              "array([233])"
            ]
          },
          "metadata": {},
          "execution_count": 43
        }
      ],
      "source": [
        "l = [16, 87, 233]\n",
        "np.random.choice(l, 1)"
      ]
    },
    {
      "cell_type": "markdown",
      "id": "a1d0ca59",
      "metadata": {
        "id": "a1d0ca59"
      },
      "source": [
        "---\n",
        "<a id=4></a>\n",
        "[Topへ](#0)\n",
        "\n",
        "---\n",
        "## 4.Numpy ndarrayの次元、形状、サイズ"
      ]
    },
    {
      "cell_type": "markdown",
      "id": "f4c4c4ba",
      "metadata": {
        "id": "f4c4c4ba"
      },
      "source": [
        "* 次元\n",
        "* 形状\n",
        "* サイズ（要素数）\n",
        "* 形状の変換\n",
        "---"
      ]
    },
    {
      "cell_type": "code",
      "execution_count": 43,
      "id": "1d2318cb",
      "metadata": {
        "scrolled": true,
        "id": "1d2318cb"
      },
      "outputs": [],
      "source": []
    },
    {
      "cell_type": "markdown",
      "id": "e785d42b",
      "metadata": {
        "id": "e785d42b"
      },
      "source": [
        "次元"
      ]
    },
    {
      "cell_type": "code",
      "execution_count": 43,
      "id": "7b720562",
      "metadata": {
        "id": "7b720562"
      },
      "outputs": [],
      "source": []
    },
    {
      "cell_type": "markdown",
      "id": "ed920438",
      "metadata": {
        "id": "ed920438"
      },
      "source": [
        "形状"
      ]
    },
    {
      "cell_type": "code",
      "execution_count": 43,
      "id": "3ef3f27e",
      "metadata": {
        "id": "3ef3f27e"
      },
      "outputs": [],
      "source": []
    },
    {
      "cell_type": "markdown",
      "id": "fa9d12b8",
      "metadata": {
        "id": "fa9d12b8"
      },
      "source": [
        "サイズ（要素数）"
      ]
    },
    {
      "cell_type": "code",
      "execution_count": 43,
      "id": "86673451",
      "metadata": {
        "id": "86673451"
      },
      "outputs": [],
      "source": []
    },
    {
      "cell_type": "markdown",
      "id": "1a559575",
      "metadata": {
        "id": "1a559575"
      },
      "source": [
        "形状の変換"
      ]
    },
    {
      "cell_type": "code",
      "execution_count": 43,
      "id": "560f55b7",
      "metadata": {
        "scrolled": true,
        "id": "560f55b7"
      },
      "outputs": [],
      "source": []
    },
    {
      "cell_type": "markdown",
      "id": "731d265c",
      "metadata": {
        "id": "731d265c"
      },
      "source": [
        "---\n",
        "<a id=5></a>\n",
        "[Topへ](#0)\n",
        "\n",
        "---\n",
        "## 5.Numpy ndarrayの演算例"
      ]
    },
    {
      "cell_type": "code",
      "execution_count": 43,
      "id": "77cad46c",
      "metadata": {
        "id": "77cad46c"
      },
      "outputs": [],
      "source": []
    },
    {
      "cell_type": "markdown",
      "id": "a2345564",
      "metadata": {
        "id": "a2345564"
      },
      "source": [
        "---\n",
        "[Topへ](#0)\n",
        "\n",
        "---\n",
        "## 以上\n",
        "    \n",
        "---"
      ]
    }
  ],
  "metadata": {
    "kernelspec": {
      "display_name": "Python 3",
      "language": "python",
      "name": "python3"
    },
    "language_info": {
      "codemirror_mode": {
        "name": "ipython",
        "version": 3
      },
      "file_extension": ".py",
      "mimetype": "text/x-python",
      "name": "python",
      "nbconvert_exporter": "python",
      "pygments_lexer": "ipython3",
      "version": "3.7.10"
    },
    "colab": {
      "provenance": [],
      "include_colab_link": true
    }
  },
  "nbformat": 4,
  "nbformat_minor": 5
}