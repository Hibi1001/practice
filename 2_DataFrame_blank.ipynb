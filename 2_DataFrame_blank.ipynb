{
  "cells": [
    {
      "cell_type": "markdown",
      "metadata": {
        "id": "view-in-github",
        "colab_type": "text"
      },
      "source": [
        "<a href=\"https://colab.research.google.com/github/Hibi1001/practice/blob/main/2_DataFrame_blank.ipynb\" target=\"_parent\"><img src=\"https://colab.research.google.com/assets/colab-badge.svg\" alt=\"Open In Colab\"/></a>"
      ]
    },
    {
      "cell_type": "markdown",
      "id": "23c6d4cc",
      "metadata": {
        "id": "23c6d4cc"
      },
      "source": [
        "<a id=0></a>\n",
        "# 2. DataFrameを理解する"
      ]
    },
    {
      "cell_type": "markdown",
      "id": "cfd115fa",
      "metadata": {
        "id": "cfd115fa"
      },
      "source": [
        "---\n",
        "### [1.Arrayの作成、SeriesとDataFrameの作成 ](#1)\n",
        "### [2.SeriesとDataFrame](#2)\n",
        "### [3.DataFrameの基礎データとaxisの理解](#3)\n",
        "### [4.IndexとColumnについて](#4)\n",
        "### [5.欠損値](#5)\n",
        "### [6.DataFrameを別のファイルとして保存](#6)\n",
        "---"
      ]
    },
    {
      "cell_type": "code",
      "execution_count": null,
      "id": "5f4b23d4",
      "metadata": {
        "id": "5f4b23d4"
      },
      "outputs": [],
      "source": [
        "import numpy as np\n",
        "import pandas as pd\n",
        "import matplotlib.pyplot as plt\n",
        "import seaborn as sns"
      ]
    },
    {
      "cell_type": "markdown",
      "id": "0b658499",
      "metadata": {
        "id": "0b658499"
      },
      "source": [
        "---\n",
        "<a id=1></a>\n",
        "[Topへ](#0)\n",
        "\n",
        "---\n",
        "## 1.Arrayの作成、SeriesとDataFrameの作成"
      ]
    },
    {
      "cell_type": "markdown",
      "id": "39c9d4cc",
      "metadata": {
        "id": "39c9d4cc"
      },
      "source": [
        "* 100 - 10000の整数データ (100,)からSeriesを作成\n",
        "* Series と ndarry\n",
        "* Seriesに名前を付ける\n",
        "* 10 - 100の整数データ (100,)からSeriesを作成\n",
        "* 0 - 10の小数データ (100, 2)からDataFrameを作成\n",
        "* 40 - 60の範囲の一様分布の小数データ (100, 1)からDataFrameを作成\n",
        "* 平均 0、標準偏差 1の正規分布に従う小数データ (100, 1)からDataFrameを作成\n",
        "* 平均50、標準偏差10の正規分布に従う小数データ (100, 1)からDataFrameを作成\n",
        "* ['red', 'green', 'blue'] (100, 1)、 ['circle', 'square', 'triangle'] (100, 1)、ndarrayを合しDataFrameを作成\n",
        "* datetime 1997/7/5から1日刻み (100, 1)からDatetimeIndex、Seriesを作成\n",
        "* Series, DataFrameを結合\n",
        "* DataFrameのサンプル（レコード）の一部を抽出する\n",
        "---"
      ]
    },
    {
      "cell_type": "markdown",
      "id": "12f6c3df",
      "metadata": {
        "id": "12f6c3df"
      },
      "source": [
        "100 - 10000の整数データ (100,)からSeriesを作成"
      ]
    },
    {
      "cell_type": "code",
      "execution_count": null,
      "id": "1152c769",
      "metadata": {
        "scrolled": true,
        "id": "1152c769"
      },
      "outputs": [],
      "source": []
    },
    {
      "cell_type": "markdown",
      "id": "2a9575e4",
      "metadata": {
        "id": "2a9575e4"
      },
      "source": [
        "Series と ndarry"
      ]
    },
    {
      "cell_type": "code",
      "execution_count": null,
      "id": "2ade9796",
      "metadata": {
        "id": "2ade9796"
      },
      "outputs": [],
      "source": []
    },
    {
      "cell_type": "markdown",
      "id": "d4344159",
      "metadata": {
        "id": "d4344159"
      },
      "source": [
        "Seriesに名前を付ける"
      ]
    },
    {
      "cell_type": "code",
      "execution_count": null,
      "id": "70bdf0ef",
      "metadata": {
        "id": "70bdf0ef"
      },
      "outputs": [],
      "source": []
    },
    {
      "cell_type": "markdown",
      "id": "8141d5ba",
      "metadata": {
        "id": "8141d5ba"
      },
      "source": [
        "10 - 100の整数データ (100,)からSeriesを作成"
      ]
    },
    {
      "cell_type": "code",
      "execution_count": null,
      "id": "7c6a375f",
      "metadata": {
        "id": "7c6a375f"
      },
      "outputs": [],
      "source": []
    },
    {
      "cell_type": "markdown",
      "id": "7cb44e85",
      "metadata": {
        "id": "7cb44e85"
      },
      "source": [
        "0 - 10の小数データ (100, 2)からDataFrameを作成"
      ]
    },
    {
      "cell_type": "code",
      "execution_count": null,
      "id": "f6335148",
      "metadata": {
        "id": "f6335148"
      },
      "outputs": [],
      "source": []
    },
    {
      "cell_type": "markdown",
      "id": "eb23916f",
      "metadata": {
        "id": "eb23916f"
      },
      "source": [
        "40 - 60の範囲の一様分布の小数データ (100, 1)からDataFrameを作成"
      ]
    },
    {
      "cell_type": "code",
      "execution_count": null,
      "id": "99902c60",
      "metadata": {
        "id": "99902c60"
      },
      "outputs": [],
      "source": []
    },
    {
      "cell_type": "markdown",
      "id": "bdcdddfb",
      "metadata": {
        "id": "bdcdddfb"
      },
      "source": [
        "平均 0、標準偏差 1の正規分布に従う小数データ (100, 1)からDataFrameを作成"
      ]
    },
    {
      "cell_type": "code",
      "execution_count": null,
      "id": "62f5ee56",
      "metadata": {
        "id": "62f5ee56"
      },
      "outputs": [],
      "source": []
    },
    {
      "cell_type": "markdown",
      "id": "43c9224d",
      "metadata": {
        "id": "43c9224d"
      },
      "source": [
        "平均50、標準偏差10の正規分布に従う小数データ (100, 1)からDataFrameを作成"
      ]
    },
    {
      "cell_type": "code",
      "execution_count": null,
      "id": "c3bc39bd",
      "metadata": {
        "id": "c3bc39bd"
      },
      "outputs": [],
      "source": []
    },
    {
      "cell_type": "markdown",
      "id": "47ad1fe0",
      "metadata": {
        "id": "47ad1fe0"
      },
      "source": [
        "['red', 'green', 'blue'] (100, 1)、 ['circle', 'square', 'triangle'] (100, 1)、ndarrayを結合しDataFrameを作成"
      ]
    },
    {
      "cell_type": "code",
      "execution_count": null,
      "id": "4cfeb29d",
      "metadata": {
        "id": "4cfeb29d"
      },
      "outputs": [],
      "source": []
    },
    {
      "cell_type": "markdown",
      "id": "958718f5",
      "metadata": {
        "id": "958718f5"
      },
      "source": [
        "datetime 1997/7/5から1日刻み (100, 1)からDatetimeIndex、Seriesを作成"
      ]
    },
    {
      "cell_type": "code",
      "execution_count": null,
      "id": "09d08503",
      "metadata": {
        "id": "09d08503"
      },
      "outputs": [],
      "source": []
    },
    {
      "cell_type": "markdown",
      "id": "7eff40d1",
      "metadata": {
        "id": "7eff40d1"
      },
      "source": [
        "Series, DataFrameを結合"
      ]
    },
    {
      "cell_type": "code",
      "execution_count": null,
      "id": "cd7743f6",
      "metadata": {
        "scrolled": true,
        "id": "cd7743f6"
      },
      "outputs": [],
      "source": []
    },
    {
      "cell_type": "markdown",
      "id": "174ef27d",
      "metadata": {
        "id": "174ef27d"
      },
      "source": [
        "DataFrameのサンプル（レコード）の一部を抽出する"
      ]
    },
    {
      "cell_type": "code",
      "execution_count": null,
      "id": "fc3053fa",
      "metadata": {
        "scrolled": true,
        "id": "fc3053fa"
      },
      "outputs": [],
      "source": []
    },
    {
      "cell_type": "markdown",
      "id": "9b716def",
      "metadata": {
        "id": "9b716def"
      },
      "source": [
        "---\n",
        "<a id=2></a>\n",
        "[Topへ](#0)\n",
        "\n",
        "---\n",
        "## 2.SeriesとDataFrame"
      ]
    },
    {
      "cell_type": "markdown",
      "id": "3a0b885a",
      "metadata": {
        "id": "3a0b885a"
      },
      "source": [
        "* SeriesとDataFrameの関係性\n",
        "* Series、DataFrameをndarrayに変換\n",
        "* Series、DataFrameをlistに変換\n",
        "* Series、DataFrameをdictionaryに変換\n",
        "* Seriesの作成\n",
        "* DataFrameの作成\n",
        "---"
      ]
    },
    {
      "cell_type": "markdown",
      "id": "3a4878ac",
      "metadata": {
        "id": "3a4878ac"
      },
      "source": [
        "SeriesとDataFrameの関係性"
      ]
    },
    {
      "cell_type": "code",
      "execution_count": null,
      "id": "93673e23",
      "metadata": {
        "id": "93673e23"
      },
      "outputs": [],
      "source": []
    },
    {
      "cell_type": "markdown",
      "id": "efc68bab",
      "metadata": {
        "id": "efc68bab"
      },
      "source": [
        "Series、DataFrameをndarrayに変換"
      ]
    },
    {
      "cell_type": "code",
      "execution_count": null,
      "id": "df76f80a",
      "metadata": {
        "id": "df76f80a"
      },
      "outputs": [],
      "source": []
    },
    {
      "cell_type": "markdown",
      "id": "e377093a",
      "metadata": {
        "id": "e377093a"
      },
      "source": [
        "Series、DataFrameをlistに変換"
      ]
    },
    {
      "cell_type": "code",
      "execution_count": null,
      "id": "95b91e63",
      "metadata": {
        "id": "95b91e63"
      },
      "outputs": [],
      "source": []
    },
    {
      "cell_type": "markdown",
      "id": "2472015d",
      "metadata": {
        "id": "2472015d"
      },
      "source": [
        "Series、DataFrameをdictionaryに変換"
      ]
    },
    {
      "cell_type": "code",
      "execution_count": null,
      "id": "d07a55dc",
      "metadata": {
        "scrolled": true,
        "id": "d07a55dc"
      },
      "outputs": [],
      "source": []
    },
    {
      "cell_type": "markdown",
      "id": "d2951ede",
      "metadata": {
        "id": "d2951ede"
      },
      "source": [
        "Seriesの作成"
      ]
    },
    {
      "cell_type": "code",
      "execution_count": null,
      "id": "6a4459eb",
      "metadata": {
        "id": "6a4459eb"
      },
      "outputs": [],
      "source": []
    },
    {
      "cell_type": "markdown",
      "id": "21e391e4",
      "metadata": {
        "id": "21e391e4"
      },
      "source": [
        "DataFrameの作成"
      ]
    },
    {
      "cell_type": "code",
      "execution_count": null,
      "id": "c6ec9798",
      "metadata": {
        "id": "c6ec9798"
      },
      "outputs": [],
      "source": []
    },
    {
      "cell_type": "markdown",
      "id": "7fcaac03",
      "metadata": {
        "id": "7fcaac03"
      },
      "source": [
        "---\n",
        "<a id=3></a>\n",
        "[Topへ](#0)\n",
        "\n",
        "---\n",
        "## 3.DataFrameの基礎データとaxisの理解"
      ]
    },
    {
      "cell_type": "markdown",
      "id": "c7a44bed",
      "metadata": {
        "id": "c7a44bed"
      },
      "source": [
        "* len(df) : レコード数\n",
        "* df.info() : null, dtypeなど\n",
        "* df.size : 要素数\n",
        "* df.shape : index * columns\n",
        "* df.count : 個数（要素の数）\n",
        "* df.sum() : 合計（要素の値の合計）\n",
        "* axisの理解\n",
        "---"
      ]
    },
    {
      "cell_type": "markdown",
      "id": "e0821cfe",
      "metadata": {
        "id": "e0821cfe"
      },
      "source": [
        "len(df) : レコード数"
      ]
    },
    {
      "cell_type": "code",
      "execution_count": null,
      "id": "a577dff9",
      "metadata": {
        "id": "a577dff9"
      },
      "outputs": [],
      "source": []
    },
    {
      "cell_type": "markdown",
      "id": "9c19cadc",
      "metadata": {
        "id": "9c19cadc"
      },
      "source": [
        "df.info() : null, dtypeなど"
      ]
    },
    {
      "cell_type": "code",
      "execution_count": null,
      "id": "a5ede561",
      "metadata": {
        "scrolled": true,
        "id": "a5ede561"
      },
      "outputs": [],
      "source": []
    },
    {
      "cell_type": "markdown",
      "id": "1661cc32",
      "metadata": {
        "id": "1661cc32"
      },
      "source": [
        "df.size : 要素数"
      ]
    },
    {
      "cell_type": "code",
      "execution_count": null,
      "id": "8ec49949",
      "metadata": {
        "id": "8ec49949"
      },
      "outputs": [],
      "source": []
    },
    {
      "cell_type": "markdown",
      "id": "b7a2c4c8",
      "metadata": {
        "id": "b7a2c4c8"
      },
      "source": [
        "df.shape : index * columns"
      ]
    },
    {
      "cell_type": "code",
      "execution_count": null,
      "id": "f3c926e7",
      "metadata": {
        "id": "f3c926e7"
      },
      "outputs": [],
      "source": []
    },
    {
      "cell_type": "markdown",
      "id": "188eefc8",
      "metadata": {
        "id": "188eefc8"
      },
      "source": [
        "df.count : 個数（要素の数）"
      ]
    },
    {
      "cell_type": "code",
      "execution_count": null,
      "id": "05b6655b",
      "metadata": {
        "id": "05b6655b"
      },
      "outputs": [],
      "source": []
    },
    {
      "cell_type": "markdown",
      "id": "ddbbb4c5",
      "metadata": {
        "id": "ddbbb4c5"
      },
      "source": [
        "df.sum() : 合計（要素の値の合計）"
      ]
    },
    {
      "cell_type": "code",
      "execution_count": null,
      "id": "4b4262d8",
      "metadata": {
        "id": "4b4262d8"
      },
      "outputs": [],
      "source": [
        "# TypeErrorが発生する可能性があります。\n",
        "# デフォルトがnumeric_only = Falseに変更されているのがその原因です\n",
        "# エラーが出た場合はこのセルは無視して次に説明をするnumeric_only = Trueを利用して合計値を算出してください"
      ]
    },
    {
      "cell_type": "markdown",
      "id": "b2b2ebd1",
      "metadata": {
        "id": "b2b2ebd1"
      },
      "source": [
        "axisの理解"
      ]
    },
    {
      "cell_type": "code",
      "execution_count": null,
      "id": "2e966e5c",
      "metadata": {
        "scrolled": true,
        "id": "2e966e5c"
      },
      "outputs": [],
      "source": []
    },
    {
      "cell_type": "markdown",
      "id": "0007a8fe",
      "metadata": {
        "id": "0007a8fe"
      },
      "source": [
        "---\n",
        "<a id=4></a>\n",
        "[Topへ](#0)\n",
        "\n",
        "---\n",
        "## 4.IndexとColumnについて"
      ]
    },
    {
      "cell_type": "markdown",
      "id": "cb82e767",
      "metadata": {
        "id": "cb82e767"
      },
      "source": [
        "* indexとcolumnsの取得\n",
        "* indexの設定とリセット\n",
        "* indexラベル、columnラベルの変更\n",
        "---"
      ]
    },
    {
      "cell_type": "markdown",
      "id": "fdacedbc",
      "metadata": {
        "id": "fdacedbc"
      },
      "source": [
        "indexとcolumnsの取得"
      ]
    },
    {
      "cell_type": "code",
      "execution_count": null,
      "id": "d6f378e5",
      "metadata": {
        "scrolled": true,
        "id": "d6f378e5"
      },
      "outputs": [],
      "source": []
    },
    {
      "cell_type": "markdown",
      "id": "288f110d",
      "metadata": {
        "id": "288f110d"
      },
      "source": [
        "indexの設定とリセット"
      ]
    },
    {
      "cell_type": "code",
      "execution_count": null,
      "id": "a55dfbf7",
      "metadata": {
        "scrolled": true,
        "id": "a55dfbf7"
      },
      "outputs": [],
      "source": []
    },
    {
      "cell_type": "markdown",
      "id": "3fc836da",
      "metadata": {
        "id": "3fc836da"
      },
      "source": [
        "indexラベル、columnラベルの変更"
      ]
    },
    {
      "cell_type": "code",
      "execution_count": null,
      "id": "21bb7ee6",
      "metadata": {
        "id": "21bb7ee6"
      },
      "outputs": [],
      "source": []
    },
    {
      "cell_type": "markdown",
      "id": "cb604e7b",
      "metadata": {
        "id": "cb604e7b"
      },
      "source": [
        "---\n",
        "<a id=5></a>\n",
        "[Topへ](#0)\n",
        "\n",
        "---\n",
        "## 5.欠損値"
      ]
    },
    {
      "cell_type": "markdown",
      "id": "608d2bdf",
      "metadata": {
        "id": "608d2bdf"
      },
      "source": [
        "* None, null, np.nanを確認\n",
        "* DataFrameの欠損値はNoneもしくはnp.nanで置き換える\n",
        "* df.isnull()の使い方\n",
        "* 欠損値のある行を表示\n",
        "* nullは平均値の計算などに影響するか\n",
        "* 欠損値を視覚化\n",
        "---"
      ]
    },
    {
      "cell_type": "markdown",
      "id": "1a69e05a",
      "metadata": {
        "id": "1a69e05a"
      },
      "source": [
        "None, null, np.nanを確認"
      ]
    },
    {
      "cell_type": "code",
      "execution_count": null,
      "id": "fd1ca400",
      "metadata": {
        "id": "fd1ca400"
      },
      "outputs": [],
      "source": []
    },
    {
      "cell_type": "markdown",
      "id": "063e6357",
      "metadata": {
        "id": "063e6357"
      },
      "source": [
        "DataFrameの欠損値はNoneもしくはnp.nanで置き換える"
      ]
    },
    {
      "cell_type": "code",
      "execution_count": null,
      "id": "62da6db6",
      "metadata": {
        "id": "62da6db6"
      },
      "outputs": [],
      "source": []
    },
    {
      "cell_type": "markdown",
      "id": "1259d5ba",
      "metadata": {
        "id": "1259d5ba"
      },
      "source": [
        "df.isnull()の使い方"
      ]
    },
    {
      "cell_type": "code",
      "execution_count": null,
      "id": "70cbcb99",
      "metadata": {
        "scrolled": true,
        "id": "70cbcb99"
      },
      "outputs": [],
      "source": []
    },
    {
      "cell_type": "markdown",
      "id": "07acea96",
      "metadata": {
        "id": "07acea96"
      },
      "source": [
        "欠損値のある行を表示"
      ]
    },
    {
      "cell_type": "code",
      "execution_count": null,
      "id": "7643c09a",
      "metadata": {
        "scrolled": true,
        "id": "7643c09a"
      },
      "outputs": [],
      "source": []
    },
    {
      "cell_type": "markdown",
      "id": "002ab684",
      "metadata": {
        "id": "002ab684"
      },
      "source": [
        "nullは平均値の計算などに影響するか"
      ]
    },
    {
      "cell_type": "code",
      "execution_count": null,
      "id": "9fb55b9d",
      "metadata": {
        "id": "9fb55b9d"
      },
      "outputs": [],
      "source": []
    },
    {
      "cell_type": "markdown",
      "id": "c956a442",
      "metadata": {
        "id": "c956a442"
      },
      "source": [
        "欠損値の有無を視覚化  \n",
        "※ seabornやグラフについての詳細は別のレクチャーで解説します"
      ]
    },
    {
      "cell_type": "code",
      "execution_count": null,
      "id": "2bfde741",
      "metadata": {
        "id": "2bfde741"
      },
      "outputs": [],
      "source": []
    },
    {
      "cell_type": "markdown",
      "id": "3d0e4b43",
      "metadata": {
        "id": "3d0e4b43"
      },
      "source": [
        "---\n",
        "<a id=6></a>\n",
        "[Topへ](#0)\n",
        "\n",
        "---\n",
        "## 6.DataFrameを別のファイルとして保存\n",
        "---"
      ]
    },
    {
      "cell_type": "code",
      "execution_count": null,
      "id": "0a27631b",
      "metadata": {
        "id": "0a27631b"
      },
      "outputs": [],
      "source": []
    },
    {
      "cell_type": "markdown",
      "id": "ea75d049",
      "metadata": {
        "id": "ea75d049"
      },
      "source": [
        "---\n",
        "[Topへ](#0)\n",
        "\n",
        "---\n",
        "## 以上\n",
        "---"
      ]
    }
  ],
  "metadata": {
    "kernelspec": {
      "display_name": "Python 3",
      "language": "python",
      "name": "python3"
    },
    "language_info": {
      "codemirror_mode": {
        "name": "ipython",
        "version": 3
      },
      "file_extension": ".py",
      "mimetype": "text/x-python",
      "name": "python",
      "nbconvert_exporter": "python",
      "pygments_lexer": "ipython3",
      "version": "3.7.10"
    },
    "colab": {
      "provenance": [],
      "include_colab_link": true
    }
  },
  "nbformat": 4,
  "nbformat_minor": 5
}