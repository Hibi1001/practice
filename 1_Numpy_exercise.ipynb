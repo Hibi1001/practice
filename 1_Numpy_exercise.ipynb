{
  "cells": [
    {
      "cell_type": "markdown",
      "metadata": {
        "id": "view-in-github",
        "colab_type": "text"
      },
      "source": [
        "<a href=\"https://colab.research.google.com/github/Hibi1001/practice/blob/main/1_Numpy_exercise.ipynb\" target=\"_parent\"><img src=\"https://colab.research.google.com/assets/colab-badge.svg\" alt=\"Open In Colab\"/></a>"
      ]
    },
    {
      "cell_type": "markdown",
      "id": "40d9c665",
      "metadata": {
        "id": "40d9c665"
      },
      "source": [
        "---\n",
        "# 1. Numpy Exercise\n",
        "---"
      ]
    },
    {
      "cell_type": "markdown",
      "id": "7c624520",
      "metadata": {
        "id": "7c624520"
      },
      "source": [
        "Exercise_1 : Numpyライブラリを np というエイリアスでインポートしてください"
      ]
    },
    {
      "cell_type": "code",
      "execution_count": 2,
      "id": "2fe04f33",
      "metadata": {
        "id": "2fe04f33"
      },
      "outputs": [],
      "source": [
        "import numpy as np"
      ]
    },
    {
      "cell_type": "markdown",
      "id": "cb8b7c14",
      "metadata": {
        "id": "cb8b7c14"
      },
      "source": [
        "<details>\n",
        "    <summary><font color='red'>解答はここをクリック</font></summary>\n",
        "    <code>import numpy as np</code>\n",
        "</details>"
      ]
    },
    {
      "cell_type": "markdown",
      "id": "28d6b528",
      "metadata": {
        "id": "28d6b528"
      },
      "source": [
        "Exercise_2 :  [1, 3, 5, ..., 21, 23] の連続する値を持つ1次元のNumpy Array（変数名 arr1）を作成してください"
      ]
    },
    {
      "cell_type": "code",
      "execution_count": 43,
      "id": "75eec315",
      "metadata": {
        "colab": {
          "base_uri": "https://localhost:8080/"
        },
        "id": "75eec315",
        "outputId": "2cf6f5d5-3ef8-4f01-f3b9-33c3cdbb3a55"
      },
      "outputs": [
        {
          "output_type": "execute_result",
          "data": {
            "text/plain": [
              "array([ 1,  3,  5,  7,  9, 11, 13, 15, 17, 19, 21, 23])"
            ]
          },
          "metadata": {},
          "execution_count": 43
        }
      ],
      "source": [
        "arr1 = np.arange(1, 24, 2)\n",
        "arr1"
      ]
    },
    {
      "cell_type": "markdown",
      "id": "1b4e0e97",
      "metadata": {
        "id": "1b4e0e97"
      },
      "source": [
        "<details>\n",
        "    <summary><font color='red'>解答はここをクリック</font></summary>\n",
        "    <code>arr1 = np.arange(1, 24, 2)</code>\n",
        "</details>"
      ]
    },
    {
      "cell_type": "code",
      "execution_count": 19,
      "id": "8c671c2f",
      "metadata": {
        "colab": {
          "base_uri": "https://localhost:8080/"
        },
        "id": "8c671c2f",
        "outputId": "5de68f16-2dfe-4a0d-fa2b-7164cb34a948"
      },
      "outputs": [
        {
          "output_type": "execute_result",
          "data": {
            "text/plain": [
              "array([ 1,  3,  5,  7,  9, 11, 13, 15, 17, 19, 21, 23])"
            ]
          },
          "metadata": {},
          "execution_count": 19
        }
      ],
      "source": [
        "# 実行して表示\n",
        "arr1"
      ]
    },
    {
      "cell_type": "markdown",
      "id": "4d1f6bf7",
      "metadata": {
        "id": "4d1f6bf7"
      },
      "source": [
        "Exercise_3 : [0., 0.5, 1, ..., 5.5, 6.] （要素数は13）の連続する値を持つ1次元のNumpy Array（変数名 arr2）を作成してください"
      ]
    },
    {
      "cell_type": "code",
      "execution_count": 24,
      "id": "4d45835a",
      "metadata": {
        "id": "4d45835a"
      },
      "outputs": [],
      "source": [
        "arr2 = np.linspace(0, 6, 13)"
      ]
    },
    {
      "cell_type": "markdown",
      "id": "5eb24fe7",
      "metadata": {
        "id": "5eb24fe7"
      },
      "source": [
        "<details>\n",
        "    <summary><font color='red'>解答はここをクリック</font></summary>\n",
        "    <code>arr2 = np.linspace(0, 6, 13)</code><br>\n",
        "    <code>np.arange(0, 6.1, 0.5)</code>などでも可\n",
        "</details>"
      ]
    },
    {
      "cell_type": "code",
      "execution_count": 25,
      "id": "5a3a3f0e",
      "metadata": {
        "colab": {
          "base_uri": "https://localhost:8080/"
        },
        "id": "5a3a3f0e",
        "outputId": "81226b5a-6d20-4cee-d2cd-0dc6fcf246ef"
      },
      "outputs": [
        {
          "output_type": "execute_result",
          "data": {
            "text/plain": [
              "array([0. , 0.5, 1. , 1.5, 2. , 2.5, 3. , 3.5, 4. , 4.5, 5. , 5.5, 6. ])"
            ]
          },
          "metadata": {},
          "execution_count": 25
        }
      ],
      "source": [
        "# 実行して表示\n",
        "arr2"
      ]
    },
    {
      "cell_type": "markdown",
      "id": "b2c30d92",
      "metadata": {
        "id": "b2c30d92"
      },
      "source": [
        "Exercise_4 : arr1 を3行4列の配列に変換してください(arr1_reshaped)"
      ]
    },
    {
      "cell_type": "code",
      "execution_count": 26,
      "id": "cbd423f9",
      "metadata": {
        "id": "cbd423f9"
      },
      "outputs": [],
      "source": [
        "arr1_reshaped = arr1.reshape(3, 4)"
      ]
    },
    {
      "cell_type": "markdown",
      "id": "fe9ffdad",
      "metadata": {
        "id": "fe9ffdad"
      },
      "source": [
        "<details>\n",
        "    <summary><font color='red'>解答はここをクリック</font></summary>\n",
        "    <code>arr1_reshaped = arr1.reshape(3, 4)</code>\n",
        "</details>"
      ]
    },
    {
      "cell_type": "code",
      "execution_count": 27,
      "id": "b85002ac",
      "metadata": {
        "colab": {
          "base_uri": "https://localhost:8080/"
        },
        "id": "b85002ac",
        "outputId": "68dbf9de-63c2-4e12-c8ad-1b61af7a44b0"
      },
      "outputs": [
        {
          "output_type": "execute_result",
          "data": {
            "text/plain": [
              "array([[ 1,  3,  5,  7],\n",
              "       [ 9, 11, 13, 15],\n",
              "       [17, 19, 21, 23]])"
            ]
          },
          "metadata": {},
          "execution_count": 27
        }
      ],
      "source": [
        "# 実行して表示\n",
        "arr1_reshaped"
      ]
    },
    {
      "cell_type": "markdown",
      "id": "f0713a2c",
      "metadata": {
        "id": "f0713a2c"
      },
      "source": [
        "Exercise_5: arr1 を2次元で1列の配列に変換してください(arr1_1col)"
      ]
    },
    {
      "cell_type": "code",
      "execution_count": 34,
      "id": "40c54c21",
      "metadata": {
        "id": "40c54c21"
      },
      "outputs": [],
      "source": [
        "arr1_1col = arr1.reshape(-1, 1)"
      ]
    },
    {
      "cell_type": "markdown",
      "id": "7cf92206",
      "metadata": {
        "id": "7cf92206"
      },
      "source": [
        "<details>\n",
        "    <summary><font color='red'>解答はここをクリック</font></summary>\n",
        "    <code>arr1_1col = arr1.reshape(-1, 1)</code>\n",
        "</details>"
      ]
    },
    {
      "cell_type": "code",
      "execution_count": 35,
      "id": "a4bfecf3",
      "metadata": {
        "scrolled": true,
        "colab": {
          "base_uri": "https://localhost:8080/"
        },
        "id": "a4bfecf3",
        "outputId": "ecd025ba-be34-4117-82c7-5ce837b62b54"
      },
      "outputs": [
        {
          "output_type": "execute_result",
          "data": {
            "text/plain": [
              "array([[ 1],\n",
              "       [ 3],\n",
              "       [ 5],\n",
              "       [ 7],\n",
              "       [ 9],\n",
              "       [11],\n",
              "       [13],\n",
              "       [15],\n",
              "       [17],\n",
              "       [19],\n",
              "       [21],\n",
              "       [23]])"
            ]
          },
          "metadata": {},
          "execution_count": 35
        }
      ],
      "source": [
        "# 実行して表示\n",
        "arr1_1col"
      ]
    },
    {
      "cell_type": "markdown",
      "id": "2c9b76c6",
      "metadata": {
        "id": "2c9b76c6"
      },
      "source": [
        "Exercise_6 : arr1 を1次元の配列に変換してください(arr1_1dim)。ただし、arr1を扱っていく一方で、arr1_1dimの値の更新を行っていくことを前提とします。（もとのarr1のデータが変更されない手法を用いる）"
      ]
    },
    {
      "cell_type": "code",
      "execution_count": 44,
      "id": "942c134a",
      "metadata": {
        "id": "942c134a"
      },
      "outputs": [],
      "source": [
        "arr1_1dim = arr1.flatten()"
      ]
    },
    {
      "cell_type": "markdown",
      "id": "245daf44",
      "metadata": {
        "id": "245daf44"
      },
      "source": [
        "<details>\n",
        "    <summary><font color='red'>解答はここをクリック</font></summary>\n",
        "    <code>arr1_1dim = arr1.flatten()</code>\n",
        "    <p>※ ravel()の場合はarr1_1dimを更新するとarr1も更新されてしまうため</p>\n",
        "</details>"
      ]
    },
    {
      "cell_type": "code",
      "execution_count": 41,
      "id": "70668362",
      "metadata": {
        "colab": {
          "base_uri": "https://localhost:8080/"
        },
        "id": "70668362",
        "outputId": "373a5174-e1b8-4a50-a4eb-2bc0fccf437f"
      },
      "outputs": [
        {
          "output_type": "execute_result",
          "data": {
            "text/plain": [
              "array([ 1,  3,  5,  7,  9, 11, 13, 15, 17, 19, 21, 23])"
            ]
          },
          "metadata": {},
          "execution_count": 41
        }
      ],
      "source": [
        "# 実行して表示\n",
        "arr1_1dim"
      ]
    },
    {
      "cell_type": "code",
      "source": [
        "arr1"
      ],
      "metadata": {
        "colab": {
          "base_uri": "https://localhost:8080/"
        },
        "id": "zehcd0cX8yjK",
        "outputId": "815bce99-8281-4c40-e82d-ffa247137121"
      },
      "id": "zehcd0cX8yjK",
      "execution_count": 42,
      "outputs": [
        {
          "output_type": "execute_result",
          "data": {
            "text/plain": [
              "array([ 1,  3,  5,  7,  9, 11, 13, 15, 17, 19, 21, 23])"
            ]
          },
          "metadata": {},
          "execution_count": 42
        }
      ]
    },
    {
      "cell_type": "markdown",
      "id": "8f1ead72",
      "metadata": {
        "id": "8f1ead72"
      },
      "source": [
        "Exercise_7 : arr1_reshaped の次元数とその形状を確認してください"
      ]
    },
    {
      "cell_type": "code",
      "execution_count": 48,
      "id": "31672c94",
      "metadata": {
        "colab": {
          "base_uri": "https://localhost:8080/"
        },
        "id": "31672c94",
        "outputId": "339027ed-2716-41b4-f678-175cb78bccb3"
      },
      "outputs": [
        {
          "output_type": "execute_result",
          "data": {
            "text/plain": [
              "(3, 4)"
            ]
          },
          "metadata": {},
          "execution_count": 48
        }
      ],
      "source": [
        "# 次元\n",
        "arr1_reshaped.ndim"
      ]
    },
    {
      "cell_type": "markdown",
      "id": "ca4f3c41",
      "metadata": {
        "id": "ca4f3c41"
      },
      "source": [
        "<details>\n",
        "    <summary><font color='red'>解答はここをクリック</font></summary>\n",
        "    <code>arr1_reshaped.ndim</code>\n",
        "</details>"
      ]
    },
    {
      "cell_type": "code",
      "execution_count": 49,
      "id": "4108338f",
      "metadata": {
        "colab": {
          "base_uri": "https://localhost:8080/"
        },
        "id": "4108338f",
        "outputId": "0bab0b56-940d-4644-b93b-7ac2dbc217fd"
      },
      "outputs": [
        {
          "output_type": "execute_result",
          "data": {
            "text/plain": [
              "(3, 4)"
            ]
          },
          "metadata": {},
          "execution_count": 49
        }
      ],
      "source": [
        "# 形状\n",
        "arr1_reshaped.shape"
      ]
    },
    {
      "cell_type": "markdown",
      "id": "216aaaa7",
      "metadata": {
        "id": "216aaaa7"
      },
      "source": [
        "<details>\n",
        "    <summary><font color='red'>解答はここをクリック</font></summary>\n",
        "    <code>arr1_reshaped.shape</code>\n",
        "</details>"
      ]
    },
    {
      "cell_type": "markdown",
      "id": "1a1ab977",
      "metadata": {
        "id": "1a1ab977"
      },
      "source": [
        "Exercise_8: Numpy の random モジュールを使い、0以上1未満の乱数を5つ持つ一次元の配列を作成してください（arr3）"
      ]
    },
    {
      "cell_type": "code",
      "execution_count": 62,
      "id": "0fbca9e7",
      "metadata": {
        "id": "0fbca9e7"
      },
      "outputs": [],
      "source": [
        "arr3 = np.random.rand(5)"
      ]
    },
    {
      "cell_type": "markdown",
      "id": "9fedbc52",
      "metadata": {
        "id": "9fedbc52"
      },
      "source": [
        "<details>\n",
        "    <summary><font color='red'>解答はここをクリック</font></summary>\n",
        "    <code>arr3 = np.random.rand(5)</code>\n",
        "</details>"
      ]
    },
    {
      "cell_type": "code",
      "execution_count": 63,
      "id": "4bd5b02d",
      "metadata": {
        "colab": {
          "base_uri": "https://localhost:8080/"
        },
        "id": "4bd5b02d",
        "outputId": "6fafaf62-cc25-42b2-aaac-7d1d0e0c0b03"
      },
      "outputs": [
        {
          "output_type": "execute_result",
          "data": {
            "text/plain": [
              "array([0.64114679, 0.42848643, 0.26883171, 0.20676128, 0.55842386])"
            ]
          },
          "metadata": {},
          "execution_count": 63
        }
      ],
      "source": [
        "# 実行して表示\n",
        "arr3"
      ]
    },
    {
      "cell_type": "markdown",
      "id": "5a7f657f",
      "metadata": {
        "id": "5a7f657f"
      },
      "source": [
        "Exercise_9: 0以上1未満の乱数を持つ2行6列の配列を作成してください（arr4）"
      ]
    },
    {
      "cell_type": "code",
      "execution_count": 69,
      "id": "49325506",
      "metadata": {
        "id": "49325506"
      },
      "outputs": [],
      "source": [
        "arr4 = np.random.rand(2, 6)"
      ]
    },
    {
      "cell_type": "markdown",
      "id": "5b1b2726",
      "metadata": {
        "id": "5b1b2726"
      },
      "source": [
        "<details>\n",
        "    <summary><font color='red'>解答はここをクリック</font></summary>\n",
        "    <code>arr4 = np.random.rand(2, 6)</code>\n",
        "</details>"
      ]
    },
    {
      "cell_type": "code",
      "execution_count": 70,
      "id": "c8e9021c",
      "metadata": {
        "scrolled": true,
        "colab": {
          "base_uri": "https://localhost:8080/"
        },
        "id": "c8e9021c",
        "outputId": "695c107c-48c5-41c8-fc05-9dafc89d860a"
      },
      "outputs": [
        {
          "output_type": "execute_result",
          "data": {
            "text/plain": [
              "array([[0.4859232 , 0.78533092, 0.62197031, 0.97385931, 0.2532195 ,\n",
              "        0.20752563],\n",
              "       [0.66068013, 0.08848884, 0.12690317, 0.57475019, 0.17141745,\n",
              "        0.04269776]])"
            ]
          },
          "metadata": {},
          "execution_count": 70
        }
      ],
      "source": [
        "# 実行して表示\n",
        "arr4"
      ]
    },
    {
      "cell_type": "markdown",
      "id": "9a5af0b4",
      "metadata": {
        "id": "9a5af0b4"
      },
      "source": [
        "Exercise_10 : 平均が 0、標準偏差が 1 で、正規分布に従う値を持つ3行4列の配列を作成してください （arr5）"
      ]
    },
    {
      "cell_type": "code",
      "execution_count": 71,
      "id": "06cc2179",
      "metadata": {
        "id": "06cc2179"
      },
      "outputs": [],
      "source": [
        "arr5 = np.random.randn(3, 4)"
      ]
    },
    {
      "cell_type": "markdown",
      "id": "24f50ec5",
      "metadata": {
        "id": "24f50ec5"
      },
      "source": [
        "<details>\n",
        "    <summary><font color='red'>解答はここをクリック</font></summary>\n",
        "    <code>arr5 = np.random.randn(3, 4)</code>\n",
        "</details>"
      ]
    },
    {
      "cell_type": "code",
      "execution_count": 72,
      "id": "8c6e5137",
      "metadata": {
        "colab": {
          "base_uri": "https://localhost:8080/"
        },
        "id": "8c6e5137",
        "outputId": "efb726c4-50b3-4f46-b37f-5e3d26e0c6ad"
      },
      "outputs": [
        {
          "output_type": "execute_result",
          "data": {
            "text/plain": [
              "array([[ 0.90787592, -0.95324807,  0.47418855, -1.91577023],\n",
              "       [-0.08354385, -0.10879799, -0.42771096,  0.80533648],\n",
              "       [ 0.75415795,  0.52715006,  0.04919288,  0.5751656 ]])"
            ]
          },
          "metadata": {},
          "execution_count": 72
        }
      ],
      "source": [
        "# 実行して表示\n",
        "arr5"
      ]
    },
    {
      "cell_type": "markdown",
      "id": "bf221ee6",
      "metadata": {
        "id": "bf221ee6"
      },
      "source": [
        "Exercise_11 : arr5 の全要素での、最大値、最小値、平均を確認してください（max_arr5, min_arr5, mean_arr5）"
      ]
    },
    {
      "cell_type": "code",
      "execution_count": 75,
      "id": "820580ff",
      "metadata": {
        "colab": {
          "base_uri": "https://localhost:8080/"
        },
        "id": "820580ff",
        "outputId": "e81ef8ee-4066-4fb0-89bd-63e23f51f6bc"
      },
      "outputs": [
        {
          "output_type": "stream",
          "name": "stdout",
          "text": [
            "max : 0.9078759207384507, min : -1.9157702293768086, mean : 0.05033302907225979\n"
          ]
        }
      ],
      "source": [
        "max_arr5 = arr5.max()\n",
        "min_arr5 = arr5.min()\n",
        "mean_arr5 = arr5.mean()\n",
        "print(f'max : {max_arr5}, min : {min_arr5}, mean : {mean_arr5}')\n",
        "# 各行ではなく、全体の最大などを取得していることに注意"
      ]
    },
    {
      "cell_type": "markdown",
      "id": "6ebb184d",
      "metadata": {
        "id": "6ebb184d"
      },
      "source": [
        "<details>\n",
        "    <summary><font color='red'>解答はここをクリック</font></summary>\n",
        "    <code>max_arr5 = arr5.max()</code><br>\n",
        "    <code>min_arr5 = arr5.min()</code><br>\n",
        "    <code>mean_arr5 = arr5.mean()</code>\n",
        "</details>"
      ]
    },
    {
      "cell_type": "markdown",
      "id": "a199d105",
      "metadata": {
        "id": "a199d105"
      },
      "source": [
        "Exercise_12: 平均が 100、標準偏差が 10 で、正規分布に従う値を持つ3行4列の配列を作成してください （arr6）"
      ]
    },
    {
      "cell_type": "code",
      "execution_count": 78,
      "id": "82bbe7a7",
      "metadata": {
        "id": "82bbe7a7"
      },
      "outputs": [],
      "source": [
        "arr6 = np.random.normal(100, 10, (3, 4))"
      ]
    },
    {
      "cell_type": "markdown",
      "id": "153bd31f",
      "metadata": {
        "id": "153bd31f"
      },
      "source": [
        "<details>\n",
        "    <summary><font color='red'>解答はここをクリック</font></summary>\n",
        "    <code>arr6 = np.random.normal(100, 10, (3, 4))</code>\n",
        "</details>"
      ]
    },
    {
      "cell_type": "code",
      "execution_count": 79,
      "id": "ee3f64ca",
      "metadata": {
        "colab": {
          "base_uri": "https://localhost:8080/"
        },
        "id": "ee3f64ca",
        "outputId": "8dcf1488-ab46-4550-af4b-ea61417cf4d3"
      },
      "outputs": [
        {
          "output_type": "execute_result",
          "data": {
            "text/plain": [
              "array([[107.70308881, 112.0380401 , 106.72411027, 107.87041047],\n",
              "       [107.99626097, 106.73473235,  94.90281201, 107.51157379],\n",
              "       [ 98.18041419,  82.89211406, 100.42533802,  86.8721472 ]])"
            ]
          },
          "metadata": {},
          "execution_count": 79
        }
      ],
      "source": [
        "# 実行して表示\n",
        "arr6"
      ]
    },
    {
      "cell_type": "markdown",
      "id": "8abf28a2",
      "metadata": {
        "id": "8abf28a2"
      },
      "source": [
        "Exercise_13 : 10 以上 30 未満の値を持つ連続一様分布の3行4列の配列を作成してください （arr7）。また要素全体の平均値が20付近にあることを平均値を求めることで確認してください。"
      ]
    },
    {
      "cell_type": "code",
      "execution_count": 90,
      "id": "dc9bd913",
      "metadata": {
        "id": "dc9bd913"
      },
      "outputs": [],
      "source": [
        "arr7 = np.random.uniform(10, 30, (3, 4))"
      ]
    },
    {
      "cell_type": "markdown",
      "id": "88422fea",
      "metadata": {
        "id": "88422fea"
      },
      "source": [
        "<details>\n",
        "    <summary><font color='red'>解答はここをクリック</font></summary>\n",
        "    <code>arr7 = np.random.uniform(10, 30, (3, 4))</code>\n",
        "</details>"
      ]
    },
    {
      "cell_type": "code",
      "execution_count": 91,
      "id": "4aaf911d",
      "metadata": {
        "colab": {
          "base_uri": "https://localhost:8080/"
        },
        "id": "4aaf911d",
        "outputId": "7b7aa2d2-b3f8-4366-f79a-dc2bfd283bb8"
      },
      "outputs": [
        {
          "output_type": "execute_result",
          "data": {
            "text/plain": [
              "array([[12.18411628, 18.70527483, 13.24135735, 13.72840945],\n",
              "       [29.42664505, 23.74835704, 17.30041925, 28.18837669],\n",
              "       [15.06342698, 18.27457726, 15.13622594, 19.50199142]])"
            ]
          },
          "metadata": {},
          "execution_count": 91
        }
      ],
      "source": [
        "# 実行して表示\n",
        "arr7"
      ]
    },
    {
      "cell_type": "code",
      "execution_count": 92,
      "id": "d221c0e0",
      "metadata": {
        "colab": {
          "base_uri": "https://localhost:8080/"
        },
        "id": "d221c0e0",
        "outputId": "150ab643-2679-44e5-e7fd-6610633f1145"
      },
      "outputs": [
        {
          "output_type": "execute_result",
          "data": {
            "text/plain": [
              "18.708264796712356"
            ]
          },
          "metadata": {},
          "execution_count": 92
        }
      ],
      "source": [
        "# 平均値を求める\n",
        "arr7.mean()\n",
        "# 20前後の値ならばOK"
      ]
    },
    {
      "cell_type": "markdown",
      "id": "7e9aec6d",
      "metadata": {
        "id": "7e9aec6d"
      },
      "source": [
        "<details>\n",
        "    <summary><font color='red'>解答はここをクリック</font></summary>\n",
        "    <code>arr7.mean()</code>\n",
        "</details>"
      ]
    },
    {
      "cell_type": "markdown",
      "id": "e57b450a",
      "metadata": {
        "id": "e57b450a"
      },
      "source": [
        "Exercise_14 : arr7 の数値をすべて小数第4位で四捨五入した小数3桁の値に変換してください(arr7_3decimal)"
      ]
    },
    {
      "cell_type": "code",
      "execution_count": 94,
      "id": "0c47f000",
      "metadata": {
        "id": "0c47f000"
      },
      "outputs": [],
      "source": [
        "arr7_3decimal = np.round(arr7, 3)"
      ]
    },
    {
      "cell_type": "markdown",
      "id": "a874e4dc",
      "metadata": {
        "id": "a874e4dc"
      },
      "source": [
        "<details>\n",
        "    <summary><font color='red'>解答はここをクリック</font></summary>\n",
        "    <code>arr1_3decimal = np.round(arr7, 3)</code>\n",
        "</details>"
      ]
    },
    {
      "cell_type": "code",
      "execution_count": 95,
      "id": "3fcecd15",
      "metadata": {
        "colab": {
          "base_uri": "https://localhost:8080/"
        },
        "id": "3fcecd15",
        "outputId": "b84a1296-69e3-4caf-e44c-ef9b3f9f686c"
      },
      "outputs": [
        {
          "output_type": "execute_result",
          "data": {
            "text/plain": [
              "array([[12.184, 18.705, 13.241, 13.728],\n",
              "       [29.427, 23.748, 17.3  , 28.188],\n",
              "       [15.063, 18.275, 15.136, 19.502]])"
            ]
          },
          "metadata": {},
          "execution_count": 95
        }
      ],
      "source": [
        "# 実行して表示\n",
        "arr7_3decimal"
      ]
    },
    {
      "cell_type": "markdown",
      "id": "57f0424d",
      "metadata": {
        "id": "57f0424d"
      },
      "source": [
        "Exercise_15: リスト lis の文字をランダムに10個持つ1次元の配列を作成し（arr8）、データタイプを object に変更してください"
      ]
    },
    {
      "cell_type": "code",
      "execution_count": null,
      "id": "b336af72",
      "metadata": {
        "id": "b336af72"
      },
      "outputs": [],
      "source": [
        "# リストを作成\n",
        "lis = list('GOOD!')   # ['G', 'O', 'O', 'D', '!']\n",
        "arr8 ="
      ]
    },
    {
      "cell_type": "markdown",
      "id": "468ec8cc",
      "metadata": {
        "id": "468ec8cc"
      },
      "source": [
        "<details>\n",
        "    <summary><font color='red'>解答はここをクリック</font></summary>\n",
        "    <code>arr8 = np.random.choice(lis, 10)</code>\n",
        "</details>"
      ]
    },
    {
      "cell_type": "code",
      "execution_count": null,
      "id": "ab2ff6a4",
      "metadata": {
        "id": "ab2ff6a4"
      },
      "outputs": [],
      "source": [
        "# 実行して表示\n",
        "arr8"
      ]
    },
    {
      "cell_type": "code",
      "execution_count": null,
      "id": "3921a5c2",
      "metadata": {
        "id": "3921a5c2"
      },
      "outputs": [],
      "source": [
        "# データタイプを変更\n",
        "arr8 ="
      ]
    },
    {
      "cell_type": "markdown",
      "id": "4329d941",
      "metadata": {
        "id": "4329d941"
      },
      "source": [
        "<details>\n",
        "    <summary><font color='red'>解答はここをクリック</font></summary>\n",
        "    <code>arr8 = arr8.astype(object)</code>\n",
        "</details>"
      ]
    },
    {
      "cell_type": "code",
      "execution_count": null,
      "id": "bd91e8dc",
      "metadata": {
        "id": "bd91e8dc"
      },
      "outputs": [],
      "source": [
        "# 実行して表示\n",
        "arr8"
      ]
    },
    {
      "cell_type": "markdown",
      "id": "15c2c0f0",
      "metadata": {
        "id": "15c2c0f0"
      },
      "source": [
        "Exercise_16 : 次のarr9のデータタイプが 'int32' であることを確認し、その後データタイプを 'float' に変更してください"
      ]
    },
    {
      "cell_type": "code",
      "execution_count": null,
      "id": "0a9fbb94",
      "metadata": {
        "id": "0a9fbb94"
      },
      "outputs": [],
      "source": [
        "# dtypeの確認\n",
        "arr9 = np.array([1, 3, 5, 7, 9])\n"
      ]
    },
    {
      "cell_type": "markdown",
      "id": "e17fe8ae",
      "metadata": {
        "id": "e17fe8ae"
      },
      "source": [
        "<details>\n",
        "    <summary><font color='red'>解答はここをクリック</font></summary>\n",
        "    <code>arr9.dtype</code>\n",
        "</details>"
      ]
    },
    {
      "cell_type": "code",
      "execution_count": null,
      "id": "00b5b07b",
      "metadata": {
        "id": "00b5b07b"
      },
      "outputs": [],
      "source": [
        "# floatに変更\n",
        "arr9 ="
      ]
    },
    {
      "cell_type": "markdown",
      "id": "df29d022",
      "metadata": {
        "id": "df29d022"
      },
      "source": [
        "<details>\n",
        "    <summary><font color='red'>解答はここをクリック</font></summary>\n",
        "    <code>arr9.astype(float)</code><br>\n",
        "</details>"
      ]
    },
    {
      "cell_type": "code",
      "execution_count": null,
      "id": "113a3834",
      "metadata": {
        "id": "113a3834"
      },
      "outputs": [],
      "source": [
        "# 実行して表示\n",
        "arr9"
      ]
    },
    {
      "cell_type": "markdown",
      "id": "32c7c877",
      "metadata": {
        "id": "32c7c877"
      },
      "source": [
        "Exercise_17 : 配列arr10の分散と標準偏差を「計算して」求めてください。また、メソッドを用いてその値が正しいことを確認してください。"
      ]
    },
    {
      "cell_type": "code",
      "execution_count": null,
      "id": "11e9d1c1",
      "metadata": {
        "id": "11e9d1c1"
      },
      "outputs": [],
      "source": [
        "# 実行して表示\n",
        "np.random.seed(17)\n",
        "arr10 = np.random.randint(0, 10, 5)\n",
        "arr10"
      ]
    },
    {
      "cell_type": "code",
      "execution_count": null,
      "id": "3308c63d",
      "metadata": {
        "id": "3308c63d"
      },
      "outputs": [],
      "source": [
        "# 実行して表示\n",
        "mean = arr10.mean()\n",
        "mean"
      ]
    },
    {
      "cell_type": "code",
      "execution_count": null,
      "id": "c6bcb70f",
      "metadata": {
        "id": "c6bcb70f"
      },
      "outputs": [],
      "source": [
        "total = 0\n",
        "for i in arr10:\n",
        "    total +=\n",
        "total"
      ]
    },
    {
      "cell_type": "markdown",
      "id": "8a520924",
      "metadata": {
        "id": "8a520924"
      },
      "source": [
        "<details>\n",
        "    <summary><font color='red'>解答はここをクリック</font></summary>\n",
        "    <code>total += (i - mean)**2</code><br>\n",
        "</details>"
      ]
    },
    {
      "cell_type": "code",
      "execution_count": null,
      "id": "a0fa05f1",
      "metadata": {
        "id": "a0fa05f1"
      },
      "outputs": [],
      "source": [
        "variance =\n",
        "# 実行して表示\n",
        "variance"
      ]
    },
    {
      "cell_type": "markdown",
      "id": "587b30df",
      "metadata": {
        "id": "587b30df"
      },
      "source": [
        "<details>\n",
        "    <summary><font color='red'>解答はここをクリック</font></summary>\n",
        "    <code>variance = total / len(arr10)</code><br>\n",
        "</details>"
      ]
    },
    {
      "cell_type": "code",
      "execution_count": null,
      "id": "47fd43f8",
      "metadata": {
        "id": "47fd43f8"
      },
      "outputs": [],
      "source": [
        "standard_deviation =\n",
        "# 実行して表示\n",
        "standard_deviation"
      ]
    },
    {
      "cell_type": "markdown",
      "id": "70112c0e",
      "metadata": {
        "id": "70112c0e"
      },
      "source": [
        "<details>\n",
        "    <summary><font color='red'>解答はここをクリック</font></summary>\n",
        "    <code>standard_deviation = np.sqrt(variance)</code><br>\n",
        "</details>"
      ]
    },
    {
      "cell_type": "code",
      "execution_count": null,
      "id": "91cad85e",
      "metadata": {
        "id": "91cad85e"
      },
      "outputs": [],
      "source": [
        "# メソッドを使って分散を求める\n"
      ]
    },
    {
      "cell_type": "markdown",
      "id": "17f8a7c7",
      "metadata": {
        "id": "17f8a7c7"
      },
      "source": [
        "<details>\n",
        "    <summary><font color='red'>解答はここをクリック</font></summary>\n",
        "    <code>arr10.var()</code><br>\n",
        "</details>"
      ]
    },
    {
      "cell_type": "code",
      "execution_count": null,
      "id": "8180431a",
      "metadata": {
        "id": "8180431a"
      },
      "outputs": [],
      "source": [
        "# メソッドを使って標準偏差を求める\n"
      ]
    },
    {
      "cell_type": "markdown",
      "id": "6d925bab",
      "metadata": {
        "id": "6d925bab"
      },
      "source": [
        "<details>\n",
        "    <summary><font color='red'>解答はここをクリック</font></summary>\n",
        "    <code>arr10.std()</code><br>\n",
        "</details>"
      ]
    },
    {
      "cell_type": "markdown",
      "id": "d740947c",
      "metadata": {
        "id": "d740947c"
      },
      "source": [
        "## 以上"
      ]
    }
  ],
  "metadata": {
    "kernelspec": {
      "display_name": "Python 3",
      "language": "python",
      "name": "python3"
    },
    "language_info": {
      "codemirror_mode": {
        "name": "ipython",
        "version": 3
      },
      "file_extension": ".py",
      "mimetype": "text/x-python",
      "name": "python",
      "nbconvert_exporter": "python",
      "pygments_lexer": "ipython3",
      "version": "3.7.10"
    },
    "colab": {
      "provenance": [],
      "include_colab_link": true
    }
  },
  "nbformat": 4,
  "nbformat_minor": 5
}